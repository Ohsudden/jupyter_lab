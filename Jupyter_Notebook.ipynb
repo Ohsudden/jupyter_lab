{
 "cells": [
  {
   "cell_type": "markdown",
   "metadata": {},
   "source": [
    "<center>\n",
    "    <img src=\"https://cf-courses-data.s3.us.cloud-object-storage.appdomain.cloud/IBMDeveloperSkillsNetwork-DS0105EN-SkillsNetwork/labs/Module2/images/SN_web_lightmode.png\" width=\"300\" alt=\"cognitiveclass.ai logo\">\n",
    "</center>\n"
   ]
  },
  {
   "cell_type": "markdown",
   "metadata": {},
   "source": [
    "# Data Science project"
   ]
  },
  {
   "cell_type": "markdown",
   "metadata": {},
   "source": [
    "#### Add your code below following the instructions given in the course\n"
   ]
  },
  {
   "cell_type": "markdown",
   "metadata": {},
   "source": [
    "This notebook was created to show basics of data science."
   ]
  },
  {
   "cell_type": "markdown",
   "metadata": {},
   "source": [
    "Data science langs:\n",
    "\n",
    "1. Python\n",
    "2. R\n",
    "3. Java\n",
    "4. Julia"
   ]
  },
  {
   "cell_type": "markdown",
   "metadata": {},
   "source": [
    "Libraries for data science:\n",
    "\n",
    "1. sklearn\n",
    "2. pandas\n",
    "3. matplotlib\n",
    "4. scipy\n",
    "5. numpy\n",
    "6. Tensorflow\n",
    "7. PyTorch\n",
    "8. Seaborn\n",
    "9. Statsmodels"
   ]
  },
  {
   "cell_type": "markdown",
   "metadata": {},
   "source": [
    "| Tool | Description |\n",
    "|------|-------------|\n",
    "| Jupyter Notebook | A popular environment for data analysis. |\n",
    "| VS Code | IDE with support of different languages, including R and Python |\n",
    "| Docker | The system of virtualization |\n",
    "| Git | A version control tool |"
   ]
  },
  {
   "cell_type": "markdown",
   "metadata": {},
   "source": [
    "- Sum: 2 + 2 = 4\n",
    "- Substraction: 5 - 2 = 3\n",
    "- Devision: 4 / 2 = 2\n",
    "- Multiplication: 8 * 2 = 16"
   ]
  },
  {
   "cell_type": "code",
   "execution_count": 4,
   "metadata": {},
   "outputs": [
    {
     "name": "stdout",
     "output_type": "stream",
     "text": [
      "Sum is:15 \n",
      "Multiplication is: 50\n"
     ]
    }
   ],
   "source": [
    "a = 10\n",
    "b = 5\n",
    "\n",
    "multiplication = a * b\n",
    "\n",
    "sum = a + b\n",
    "\n",
    "print(f\"Sum is:{sum} \\nMultiplication is: {multiplication}\")"
   ]
  },
  {
   "cell_type": "code",
   "execution_count": 8,
   "metadata": {},
   "outputs": [
    {
     "name": "stdout",
     "output_type": "stream",
     "text": [
      "135 min = 2 hours and 15 minutes.\n"
     ]
    }
   ],
   "source": [
    "def convert_minutes_to_hours(minutes):\n",
    "    hours = minutes // 60\n",
    "    remaining_minutes = minutes % 60\n",
    "    return hours, remaining_minutes\n",
    "\n",
    "minutes = 135\n",
    "hours, remaining_minutes = convert_minutes_to_hours(minutes)\n",
    "print(f\"{minutes} min = {hours} hours and {remaining_minutes} minutes.\")"
   ]
  },
  {
   "cell_type": "markdown",
   "metadata": {},
   "source": [
    "### Goals\n",
    "\n",
    "1. master basic tools and libraries for data analysis.\n",
    "2. Learn to apply data processing and analysis techniques.\n",
    "3. Develop skills in working with data and visualizing results.\n",
    "4. Learn the basics of machine learning and its applications."
   ]
  },
  {
   "cell_type": "markdown",
   "metadata": {},
   "source": [
    "# Author:\n",
    "\n",
    "Volodymyr Vyshnevetskyi"
   ]
  },
  {
   "cell_type": "code",
   "execution_count": null,
   "metadata": {},
   "outputs": [],
   "source": []
  }
 ],
 "metadata": {
  "kernelspec": {
   "display_name": "Python 3 (ipykernel)",
   "language": "python",
   "name": "python3"
  },
  "language_info": {
   "codemirror_mode": {
    "name": "ipython",
    "version": 3
   },
   "file_extension": ".py",
   "mimetype": "text/x-python",
   "name": "python",
   "nbconvert_exporter": "python",
   "pygments_lexer": "ipython3",
   "version": "3.11.9"
  }
 },
 "nbformat": 4,
 "nbformat_minor": 4
}
